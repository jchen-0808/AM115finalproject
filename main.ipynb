{
 "cells": [
  {
   "cell_type": "code",
   "execution_count": null,
   "id": "b37a5e0e",
   "metadata": {
    "vscode": {
     "languageId": "plaintext"
    }
   },
   "outputs": [],
   "source": [
    "import numpy as np\n",
    "import matplotlib.pyplot as plt\n"
   ]
  },
  {
   "cell_type": "code",
   "execution_count": null,
   "id": "0b41aa32",
   "metadata": {
    "vscode": {
     "languageId": "plaintext"
    }
   },
   "outputs": [],
   "source": [
    "# Non Covid, Expected State\n",
    "\n",
    "states = [\"Healthy\", \"General Care\", \"Urgent Care\", \"Emergency Room\", \"Recovery Room\", \"Deceased\"]\n",
    "probabilities = np.array([0.9, 0.07, 0.02, 0.01, 0.0, 0.0])  \n",
    "\n",
    "\n",
    "transition_matrix = np.array([\n",
    "    # H    GC    UC    ER    RR   D\n",
    "    [0.9,  0.07,  0.02,  0.01,  0, 0],  # Healthy\n",
    "    [0.8,  0,  0.2,  0,  0, 0],  # General Care (GC)\n",
    "    [0.9,  0,  0,  0,  0.1, 0],  # Urgent Care (UC)\n",
    "    [0,  0,  0,  0,  1, 0],  # Emergency Room (ER)\n",
    "    [0.15,  0.05,  0,  0,  0.799993, 0.000007],  # Recovery Room (RR) \n",
    "    [0 , 0, 0, 0, 0, 1] # Deceased (D)\n",
    "])\n",
    "\n",
    "# Evolving over time \n",
    "time = 30 \n",
    "history = np.zeros((time, len(states)))\n",
    "\n",
    "for i in range(time): \n",
    "    history[i] = probabilities\n",
    "    probabilities = probabilities @ transition_matrix\n",
    "\n",
    "print(\"The final probability matrix:\")\n",
    "print(probabilities)\n",
    "print(\"Applied to Boston population:\")\n",
    "population = probabilities * 650000\n",
    "print(population)\n",
    "\n",
    "plt.figure(figsize=(10, 6))\n",
    "for i, state in enumerate(states):\n",
    "    plt.plot(range(time), history[:, i], label=state, linewidth=2)\n",
    "\n",
    "plt.xlabel(\"Time (Days)\")\n",
    "plt.ylabel(\"Probability\")\n",
    "plt.title(\"Hospital State Dynamics Over Time\")\n",
    "plt.legend()\n",
    "plt.grid(True)\n",
    "plt.show()"
   ]
  }
 ],
 "metadata": {
  "language_info": {
   "name": "python"
  }
 },
 "nbformat": 4,
 "nbformat_minor": 5
}
